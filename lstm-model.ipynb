{
 "cells": [
  {
   "cell_type": "code",
   "execution_count": 1,
   "id": "6230b7af",
   "metadata": {
    "_cell_guid": "b1076dfc-b9ad-4769-8c92-a6c4dae69d19",
    "_uuid": "8f2839f25d086af736a60e9eeb907d3b93b6e0e5",
    "papermill": {
     "duration": 1.243837,
     "end_time": "2024-04-19T13:44:51.682172",
     "exception": false,
     "start_time": "2024-04-19T13:44:50.438335",
     "status": "completed"
    },
    "tags": []
   },
   "outputs": [],
   "source": [
    "import numpy as np \n",
    "import pandas as pd \n",
    "from tqdm import tqdm"
   ]
  },
  {
   "cell_type": "code",
   "execution_count": 2,
   "id": "3ce5144b",
   "metadata": {
    "papermill": {
     "duration": 7.816813,
     "end_time": "2024-04-19T13:44:59.506625",
     "exception": false,
     "start_time": "2024-04-19T13:44:51.689812",
     "status": "completed"
    },
    "tags": []
   },
   "outputs": [],
   "source": [
    "import torch\n",
    "import torch.nn as nn\n",
    "import torch.optim as optim\n",
    "from torch.utils.data import Dataset, DataLoader\n",
    "from sklearn.model_selection import train_test_split\n",
    "from sklearn.preprocessing import LabelEncoder\n",
    "from sklearn.feature_extraction.text import CountVectorizer\n",
    "from torch.utils.data import TensorDataset, DataLoader"
   ]
  },
  {
   "cell_type": "code",
   "execution_count": 3,
   "id": "22a2272f",
   "metadata": {
    "papermill": {
     "duration": 0.013531,
     "end_time": "2024-04-19T13:44:59.527185",
     "exception": false,
     "start_time": "2024-04-19T13:44:59.513654",
     "status": "completed"
    },
    "tags": []
   },
   "outputs": [],
   "source": [
    "column_names = ['ID', 'Game', 'Sentiment', 'Text']\n",
    "\n"
   ]
  },
  {
   "cell_type": "code",
   "execution_count": 4,
   "id": "de0022cb",
   "metadata": {
    "papermill": {
     "duration": 1.339128,
     "end_time": "2024-04-19T13:45:00.873022",
     "exception": false,
     "start_time": "2024-04-19T13:44:59.533894",
     "status": "completed"
    },
    "tags": []
   },
   "outputs": [],
   "source": [
    "train_df = pd.read_csv(\"twitter_training.csv\",names=column_names)\n",
    "val_df = pd.read_csv(\"twitter_validation.csv\",names=column_names)"
   ]
  },
  {
   "cell_type": "code",
   "execution_count": 5,
   "id": "29f3b4a8",
   "metadata": {
    "papermill": {
     "duration": 0.074197,
     "end_time": "2024-04-19T13:45:00.954497",
     "exception": false,
     "start_time": "2024-04-19T13:45:00.880300",
     "status": "completed"
    },
    "tags": []
   },
   "outputs": [
    {
     "name": "stdout",
     "output_type": "stream",
     "text": [
      "<class 'pandas.core.frame.DataFrame'>\n",
      "RangeIndex: 74682 entries, 0 to 74681\n",
      "Data columns (total 4 columns):\n",
      " #   Column     Non-Null Count  Dtype \n",
      "---  ------     --------------  ----- \n",
      " 0   ID         74682 non-null  int64 \n",
      " 1   Game       74682 non-null  object\n",
      " 2   Sentiment  74682 non-null  object\n",
      " 3   Text       73996 non-null  object\n",
      "dtypes: int64(1), object(3)\n",
      "memory usage: 2.3+ MB\n"
     ]
    }
   ],
   "source": [
    "train_df.info()"
   ]
  },
  {
   "cell_type": "code",
   "execution_count": 6,
   "id": "5334f576",
   "metadata": {
    "papermill": {
     "duration": 0.025359,
     "end_time": "2024-04-19T13:45:00.986602",
     "exception": false,
     "start_time": "2024-04-19T13:45:00.961243",
     "status": "completed"
    },
    "tags": []
   },
   "outputs": [
    {
     "data": {
      "text/html": [
       "<div>\n",
       "<style scoped>\n",
       "    .dataframe tbody tr th:only-of-type {\n",
       "        vertical-align: middle;\n",
       "    }\n",
       "\n",
       "    .dataframe tbody tr th {\n",
       "        vertical-align: top;\n",
       "    }\n",
       "\n",
       "    .dataframe thead th {\n",
       "        text-align: right;\n",
       "    }\n",
       "</style>\n",
       "<table border=\"1\" class=\"dataframe\">\n",
       "  <thead>\n",
       "    <tr style=\"text-align: right;\">\n",
       "      <th></th>\n",
       "      <th>ID</th>\n",
       "      <th>Game</th>\n",
       "      <th>Sentiment</th>\n",
       "      <th>Text</th>\n",
       "    </tr>\n",
       "  </thead>\n",
       "  <tbody>\n",
       "    <tr>\n",
       "      <th>0</th>\n",
       "      <td>2401</td>\n",
       "      <td>Borderlands</td>\n",
       "      <td>Positive</td>\n",
       "      <td>im getting on borderlands and i will murder yo...</td>\n",
       "    </tr>\n",
       "    <tr>\n",
       "      <th>1</th>\n",
       "      <td>2401</td>\n",
       "      <td>Borderlands</td>\n",
       "      <td>Positive</td>\n",
       "      <td>I am coming to the borders and I will kill you...</td>\n",
       "    </tr>\n",
       "    <tr>\n",
       "      <th>2</th>\n",
       "      <td>2401</td>\n",
       "      <td>Borderlands</td>\n",
       "      <td>Positive</td>\n",
       "      <td>im getting on borderlands and i will kill you ...</td>\n",
       "    </tr>\n",
       "    <tr>\n",
       "      <th>3</th>\n",
       "      <td>2401</td>\n",
       "      <td>Borderlands</td>\n",
       "      <td>Positive</td>\n",
       "      <td>im coming on borderlands and i will murder you...</td>\n",
       "    </tr>\n",
       "    <tr>\n",
       "      <th>4</th>\n",
       "      <td>2401</td>\n",
       "      <td>Borderlands</td>\n",
       "      <td>Positive</td>\n",
       "      <td>im getting on borderlands 2 and i will murder ...</td>\n",
       "    </tr>\n",
       "  </tbody>\n",
       "</table>\n",
       "</div>"
      ],
      "text/plain": [
       "     ID         Game Sentiment  \\\n",
       "0  2401  Borderlands  Positive   \n",
       "1  2401  Borderlands  Positive   \n",
       "2  2401  Borderlands  Positive   \n",
       "3  2401  Borderlands  Positive   \n",
       "4  2401  Borderlands  Positive   \n",
       "\n",
       "                                                Text  \n",
       "0  im getting on borderlands and i will murder yo...  \n",
       "1  I am coming to the borders and I will kill you...  \n",
       "2  im getting on borderlands and i will kill you ...  \n",
       "3  im coming on borderlands and i will murder you...  \n",
       "4  im getting on borderlands 2 and i will murder ...  "
      ]
     },
     "execution_count": 6,
     "metadata": {},
     "output_type": "execute_result"
    }
   ],
   "source": [
    "train_df.head()"
   ]
  },
  {
   "cell_type": "code",
   "execution_count": 7,
   "id": "ef6a5d39",
   "metadata": {
    "papermill": {
     "duration": 0.035723,
     "end_time": "2024-04-19T13:45:01.029723",
     "exception": false,
     "start_time": "2024-04-19T13:45:00.994000",
     "status": "completed"
    },
    "tags": []
   },
   "outputs": [],
   "source": [
    "train_df.drop_duplicates(subset=['Text'], inplace=True)\n",
    "val_df.drop_duplicates(subset=['Text'], inplace=True)"
   ]
  },
  {
   "cell_type": "code",
   "execution_count": 8,
   "id": "1f30d0d9",
   "metadata": {
    "papermill": {
     "duration": 0.034401,
     "end_time": "2024-04-19T13:45:01.071519",
     "exception": false,
     "start_time": "2024-04-19T13:45:01.037118",
     "status": "completed"
    },
    "tags": []
   },
   "outputs": [],
   "source": [
    "train_df.dropna(subset=['Text'], inplace=True)\n",
    "val_df.dropna(subset=['Text'], inplace=True)"
   ]
  },
  {
   "cell_type": "code",
   "execution_count": 9,
   "id": "49b04ece",
   "metadata": {
    "papermill": {
     "duration": 0.034907,
     "end_time": "2024-04-19T13:45:01.113738",
     "exception": false,
     "start_time": "2024-04-19T13:45:01.078831",
     "status": "completed"
    },
    "tags": []
   },
   "outputs": [],
   "source": [
    "label_encoder = LabelEncoder()\n",
    "train_df['Sentiment'] = label_encoder.fit_transform(train_df['Sentiment'])\n",
    "val_df['Sentiment'] = label_encoder.transform(val_df['Sentiment'])\n"
   ]
  },
  {
   "cell_type": "code",
   "execution_count": 10,
   "id": "f00da9e8",
   "metadata": {
    "papermill": {
     "duration": 4.070255,
     "end_time": "2024-04-19T13:45:05.191806",
     "exception": false,
     "start_time": "2024-04-19T13:45:01.121551",
     "status": "completed"
    },
    "tags": []
   },
   "outputs": [],
   "source": [
    "vectorizer = CountVectorizer()\n",
    "X_train = vectorizer.fit_transform(train_df['Text']).toarray()\n",
    "y_train = train_df['Sentiment'].values"
   ]
  },
  {
   "cell_type": "code",
   "execution_count": 11,
   "id": "a086a742",
   "metadata": {
    "papermill": {
     "duration": 0.081199,
     "end_time": "2024-04-19T13:45:05.280228",
     "exception": false,
     "start_time": "2024-04-19T13:45:05.199029",
     "status": "completed"
    },
    "tags": []
   },
   "outputs": [],
   "source": [
    "X_val = vectorizer.transform(val_df['Text']).toarray()\n",
    "y_val = val_df['Sentiment'].values"
   ]
  },
  {
   "cell_type": "code",
   "execution_count": 12,
   "id": "6d5c95ac",
   "metadata": {
    "papermill": {
     "duration": 0.015495,
     "end_time": "2024-04-19T13:45:05.304130",
     "exception": false,
     "start_time": "2024-04-19T13:45:05.288635",
     "status": "completed"
    },
    "tags": []
   },
   "outputs": [
    {
     "data": {
      "text/plain": [
       "31062"
      ]
     },
     "execution_count": 12,
     "metadata": {},
     "output_type": "execute_result"
    }
   ],
   "source": [
    "X_val.shape[1]"
   ]
  },
  {
   "cell_type": "code",
   "execution_count": 13,
   "id": "f32419be",
   "metadata": {
    "papermill": {
     "duration": 5.906932,
     "end_time": "2024-04-19T13:45:11.218265",
     "exception": false,
     "start_time": "2024-04-19T13:45:05.311333",
     "status": "completed"
    },
    "tags": []
   },
   "outputs": [],
   "source": [
    "X_train_tensor = torch.tensor(X_train, dtype=torch.float32)\n",
    "y_train_tensor = torch.tensor(y_train, dtype=torch.long)\n",
    "\n",
    "# Convert NumPy arrays to PyTorch tensors for validation data\n",
    "X_val_tensor = torch.tensor(X_val, dtype=torch.float32)\n",
    "y_val_tensor = torch.tensor(y_val, dtype=torch.long)\n",
    "\n",
    "# Create TensorDataset for training data\n",
    "train_dataset = TensorDataset(X_train_tensor, y_train_tensor)\n",
    "\n",
    "# Create TensorDataset for validation data\n",
    "val_dataset = TensorDataset(X_val_tensor, y_val_tensor)\n",
    "\n",
    "# Define batch size\n",
    "batch_size = 32\n",
    "\n",
    "# Create DataLoader for training data\n",
    "train_loader = DataLoader(train_dataset, batch_size=batch_size, shuffle=True)\n",
    "\n",
    "# Create DataLoader for validation data\n",
    "val_loader = DataLoader(val_dataset, batch_size=batch_size)"
   ]
  },
  {
   "cell_type": "code",
   "execution_count": 14,
   "id": "ea98b080",
   "metadata": {
    "papermill": {
     "duration": 0.091272,
     "end_time": "2024-04-19T13:45:11.317511",
     "exception": false,
     "start_time": "2024-04-19T13:45:11.226239",
     "status": "completed"
    },
    "tags": []
   },
   "outputs": [],
   "source": [
    "device = torch.device(\"cuda:0\" if torch.cuda.is_available() else \"cpu\")"
   ]
  },
  {
   "cell_type": "code",
   "execution_count": 15,
   "id": "686b8c12",
   "metadata": {
    "papermill": {
     "duration": 0.028996,
     "end_time": "2024-04-19T13:45:11.353803",
     "exception": false,
     "start_time": "2024-04-19T13:45:11.324807",
     "status": "completed"
    },
    "tags": []
   },
   "outputs": [],
   "source": [
    "class LSTMCell(nn.Module):\n",
    "    def __init__(self, input_size, hidden_size):\n",
    "        super(LSTMCell, self).__init__()\n",
    "        self.input_size = input_size\n",
    "        self.hidden_size = hidden_size\n",
    "        \n",
    "        # Input gate weights\n",
    "        self.W_ix = nn.Parameter(torch.Tensor(input_size, hidden_size))\n",
    "        self.W_ih = nn.Parameter(torch.Tensor(hidden_size, hidden_size))\n",
    "        self.b_i = nn.Parameter(torch.Tensor(hidden_size))\n",
    "        \n",
    "        # Forget gate weights\n",
    "        self.W_fx = nn.Parameter(torch.Tensor(input_size, hidden_size))\n",
    "        self.W_fh = nn.Parameter(torch.Tensor(hidden_size, hidden_size))\n",
    "        self.b_f = nn.Parameter(torch.Tensor(hidden_size))\n",
    "        \n",
    "        # Cell gate weights\n",
    "        self.W_cx = nn.Parameter(torch.Tensor(input_size, hidden_size))\n",
    "        self.W_ch = nn.Parameter(torch.Tensor(hidden_size, hidden_size))\n",
    "        self.b_c = nn.Parameter(torch.Tensor(hidden_size))\n",
    "        \n",
    "        # Output gate weights\n",
    "        self.W_ox = nn.Parameter(torch.Tensor(input_size, hidden_size))\n",
    "        self.W_oh = nn.Parameter(torch.Tensor(hidden_size, hidden_size))\n",
    "        self.b_o = nn.Parameter(torch.Tensor(hidden_size))\n",
    "        \n",
    "        self.reset_parameters()\n",
    "        \n",
    "    def reset_parameters(self):\n",
    "        nn.init.kaiming_uniform_(self.W_ix, a=0, mode='fan_in', nonlinearity='sigmoid')\n",
    "        nn.init.kaiming_uniform_(self.W_ih, a=0, mode='fan_in', nonlinearity='sigmoid')\n",
    "        nn.init.constant_(self.b_i, 0)\n",
    "        \n",
    "        nn.init.kaiming_uniform_(self.W_fx, a=0, mode='fan_in', nonlinearity='sigmoid')\n",
    "        nn.init.kaiming_uniform_(self.W_fh, a=0, mode='fan_in', nonlinearity='sigmoid')\n",
    "        nn.init.constant_(self.b_f, 0)\n",
    "        \n",
    "        nn.init.kaiming_uniform_(self.W_cx, a=0, mode='fan_in', nonlinearity='tanh')\n",
    "        nn.init.kaiming_uniform_(self.W_ch, a=0, mode='fan_in', nonlinearity='tanh')\n",
    "        nn.init.constant_(self.b_c, 0)\n",
    "        \n",
    "        nn.init.kaiming_uniform_(self.W_ox, a=0, mode='fan_in', nonlinearity='sigmoid')\n",
    "        nn.init.kaiming_uniform_(self.W_oh, a=0, mode='fan_in', nonlinearity='sigmoid')\n",
    "        nn.init.constant_(self.b_o, 0)\n",
    "        \n",
    "    def forward(self, x, prev_hidden):\n",
    "        h_prev, c_prev = prev_hidden\n",
    "        \n",
    "        # Input gate\n",
    "        i = torch.sigmoid(torch.matmul(x, self.W_ix) + torch.matmul(h_prev, self.W_ih) + self.b_i)\n",
    "        \n",
    "        # Forget gate\n",
    "        f = torch.sigmoid(torch.matmul(x, self.W_fx) + torch.matmul(h_prev, self.W_fh) + self.b_f)\n",
    "        \n",
    "        # Update cell state\n",
    "        c_tilde = torch.tanh(torch.matmul(x, self.W_cx) + torch.matmul(h_prev, self.W_ch) + self.b_c)\n",
    "        c = f * c_prev + i * c_tilde\n",
    "        \n",
    "        # Output gate\n",
    "        o = torch.sigmoid(torch.matmul(x, self.W_ox) + torch.matmul(h_prev, self.W_oh) + self.b_o)\n",
    "        \n",
    "        # Update hidden state\n",
    "        h = o * torch.tanh(c)\n",
    "        \n",
    "        return h, c"
   ]
  },
  {
   "cell_type": "code",
   "execution_count": 16,
   "id": "99534c3c",
   "metadata": {
    "papermill": {
     "duration": 0.017745,
     "end_time": "2024-04-19T13:45:11.378374",
     "exception": false,
     "start_time": "2024-04-19T13:45:11.360629",
     "status": "completed"
    },
    "tags": []
   },
   "outputs": [],
   "source": [
    "class LSTM(nn.Module):\n",
    "    def __init__(self, input_size, hidden_size, output_size):\n",
    "        super(LSTM, self).__init__()\n",
    "        self.input_size = input_size\n",
    "        self.hidden_size = hidden_size\n",
    "        self.output_size = output_size\n",
    "        \n",
    "        self.lstm_cell = LSTMCell(input_size, hidden_size)\n",
    "        self.fc = nn.Linear(hidden_size, output_size)\n",
    "        \n",
    "    def forward(self, x):\n",
    "        batch_size, seq_len, _ = x.size()\n",
    "        h = torch.zeros(batch_size, self.hidden_size, device=x.device)\n",
    "        c = torch.zeros(batch_size, self.hidden_size, device=x.device)\n",
    "        \n",
    "        for i in range(seq_len):\n",
    "            h, c = self.lstm_cell(x[:, i, :], (h, c))\n",
    "        \n",
    "        out = self.fc(h)\n",
    "        return out\n"
   ]
  },
  {
   "cell_type": "code",
   "execution_count": 17,
   "id": "f2fcc8ac",
   "metadata": {
    "papermill": {
     "duration": 0.013795,
     "end_time": "2024-04-19T13:45:11.399213",
     "exception": false,
     "start_time": "2024-04-19T13:45:11.385418",
     "status": "completed"
    },
    "tags": []
   },
   "outputs": [],
   "source": [
    "input_size = X_train.shape[1]  # Input size is the number of features\n",
    "hidden_size = 128  # Number of units in the RNN layer\n",
    "output_size = len(label_encoder.classes_)  # Number of classes (sentiments)\n",
    "\n"
   ]
  },
  {
   "cell_type": "code",
   "execution_count": 18,
   "id": "809dbeb8",
   "metadata": {
    "papermill": {
     "duration": 0.424522,
     "end_time": "2024-04-19T13:45:11.830796",
     "exception": false,
     "start_time": "2024-04-19T13:45:11.406274",
     "status": "completed"
    },
    "tags": []
   },
   "outputs": [],
   "source": [
    "model = LSTM(input_size, hidden_size, output_size).to(device)"
   ]
  },
  {
   "cell_type": "code",
   "execution_count": 19,
   "id": "fdd83ed0",
   "metadata": {
    "papermill": {
     "duration": 3.915106,
     "end_time": "2024-04-19T13:45:15.753266",
     "exception": false,
     "start_time": "2024-04-19T13:45:11.838160",
     "status": "completed"
    },
    "tags": []
   },
   "outputs": [],
   "source": [
    "optimizer = optim.Adam(model.parameters(), lr=0.001)\n",
    "criterion = nn.CrossEntropyLoss()"
   ]
  },
  {
   "cell_type": "code",
   "execution_count": 20,
   "id": "baee054d",
   "metadata": {
    "papermill": {
     "duration": 0.022826,
     "end_time": "2024-04-19T13:45:15.783847",
     "exception": false,
     "start_time": "2024-04-19T13:45:15.761021",
     "status": "completed"
    },
    "tags": []
   },
   "outputs": [],
   "source": [
    "def train_model(model, criterion, optimizer, train_loader, val_loader, num_epochs, device):\n",
    "    best_accuracy = 0.0\n",
    "    best_epoch = 0\n",
    "    best_model_state = None\n",
    "    \n",
    "    for epoch in range(num_epochs):\n",
    "        # Training loop\n",
    "        model.train()\n",
    "        total_loss = 0\n",
    "        with tqdm(train_loader, desc=f\"Epoch {epoch+1}/{num_epochs}\", unit=\"batch\") as t:\n",
    "            for inputs, labels in t:\n",
    "                inputs = inputs.to(device)\n",
    "                labels = labels.to(device)\n",
    "                optimizer.zero_grad()\n",
    "                outputs = model(inputs.unsqueeze(1))  # Add an extra dimension for RNN input\n",
    "                loss = criterion(outputs.squeeze(), labels)\n",
    "                loss.backward()\n",
    "                optimizer.step()\n",
    "                total_loss += loss.item()\n",
    "                t.set_postfix(loss=total_loss / len(train_loader))        \n",
    "\n",
    "        # Validation loop\n",
    "        model.eval()  # Set the model to evaluation mode\n",
    "        total_correct = 0\n",
    "        total_samples = 0\n",
    "\n",
    "        with torch.no_grad():\n",
    "            with tqdm(val_loader, desc=\"Validation\", unit=\"batch\") as t:\n",
    "                for inputs, labels in t:\n",
    "                    inputs = inputs.to(device)\n",
    "                    labels = labels.to(device)\n",
    "                    outputs = model(inputs.unsqueeze(1))  # Add an extra dimension for RNN input\n",
    "                    _, predicted = torch.max(outputs, 1)\n",
    "                    total_correct += (predicted == labels).sum().item()\n",
    "                    total_samples += labels.size(0)\n",
    "                    accuracy = total_correct / total_samples\n",
    "                    t.set_postfix(accuracy=accuracy)\n",
    "\n",
    "        # Check if the current model has the highest validation accuracy\n",
    "        if accuracy > best_accuracy:\n",
    "            best_accuracy = accuracy\n",
    "            best_epoch = epoch + 1\n",
    "            best_model_state = model.state_dict().copy()\n",
    "    \n",
    "    # Load the best model parameters\n",
    "    if best_model_state:\n",
    "        model.load_state_dict(best_model_state)\n",
    "        print(f\"Best model details:\\nEpoch: {best_epoch}\\nValidation Accuracy: {best_accuracy}\")\n",
    "    \n",
    "    return model\n"
   ]
  },
  {
   "cell_type": "code",
   "execution_count": null,
   "id": "807ccabb",
   "metadata": {
    "papermill": {
     "duration": 110.986297,
     "end_time": "2024-04-19T13:47:06.777322",
     "exception": false,
     "start_time": "2024-04-19T13:45:15.791025",
     "status": "completed"
    },
    "tags": []
   },
   "outputs": [
    {
     "name": "stderr",
     "output_type": "stream",
     "text": [
      "Epoch 1/5: 100%|██████████████████████████████████████████████████████████████████████████████| 2172/2172 [05:35<00:00,  6.47batch/s, loss=0.684]\n",
      "Validation: 100%|█████████████████████████████████████████████████████████████████████████████| 32/32 [00:00<00:00, 56.40batch/s, accuracy=0.957]\n",
      "Epoch 2/5: 100%|██████████████████████████████████████████████████████████████████████████████| 2172/2172 [06:24<00:00,  5.64batch/s, loss=0.179]\n",
      "Validation: 100%|█████████████████████████████████████████████████████████████████████████████| 32/32 [00:00<00:00, 74.41batch/s, accuracy=0.974]\n",
      "Epoch 4/5: 100%|█████████████████████████████████████████████████████████████████████████████| 2172/2172 [07:34<00:00,  4.77batch/s, loss=0.0562]\n",
      "Validation: 100%|█████████████████████████████████████████████████████████████████████████████| 32/32 [00:00<00:00, 44.59batch/s, accuracy=0.978]\n",
      "Epoch 5/5:  63%|████████████████████████████████████████████████▍                            | 1366/2172 [05:06<02:55,  4.60batch/s, loss=0.0239]"
     ]
    }
   ],
   "source": [
    "num_epochs = 5\n",
    "final_model = train_model(model, criterion, optimizer, train_loader, val_loader, num_epochs, device)"
   ]
  },
  {
   "cell_type": "code",
   "execution_count": null,
   "id": "38b6e2c0",
   "metadata": {
    "papermill": {
     "duration": 0.999189,
     "end_time": "2024-04-19T13:47:08.811168",
     "exception": false,
     "start_time": "2024-04-19T13:47:07.811979",
     "status": "completed"
    },
    "tags": []
   },
   "outputs": [],
   "source": []
  },
  {
   "cell_type": "code",
   "execution_count": null,
   "id": "af4fbccd",
   "metadata": {
    "papermill": {
     "duration": 1.0585,
     "end_time": "2024-04-19T13:47:10.903901",
     "exception": false,
     "start_time": "2024-04-19T13:47:09.845401",
     "status": "completed"
    },
    "tags": []
   },
   "outputs": [],
   "source": []
  }
 ],
 "metadata": {
  "kaggle": {
   "accelerator": "nvidiaTeslaT4",
   "dataSources": [
    {
     "datasetId": 1520310,
     "sourceId": 2510329,
     "sourceType": "datasetVersion"
    }
   ],
   "dockerImageVersionId": 30648,
   "isGpuEnabled": true,
   "isInternetEnabled": true,
   "language": "python",
   "sourceType": "notebook"
  },
  "kernelspec": {
   "display_name": "Python 3 (ipykernel)",
   "language": "python",
   "name": "python3"
  },
  "language_info": {
   "codemirror_mode": {
    "name": "ipython",
    "version": 3
   },
   "file_extension": ".py",
   "mimetype": "text/x-python",
   "name": "python",
   "nbconvert_exporter": "python",
   "pygments_lexer": "ipython3",
   "version": "3.11.5"
  },
  "papermill": {
   "default_parameters": {},
   "duration": 147.81512,
   "end_time": "2024-04-19T13:47:14.504788",
   "environment_variables": {},
   "exception": null,
   "input_path": "__notebook__.ipynb",
   "output_path": "__notebook__.ipynb",
   "parameters": {},
   "start_time": "2024-04-19T13:44:46.689668",
   "version": "2.5.0"
  }
 },
 "nbformat": 4,
 "nbformat_minor": 5
}
